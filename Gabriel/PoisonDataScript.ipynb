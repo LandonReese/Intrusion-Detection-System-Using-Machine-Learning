{
 "cells": [
  {
   "cell_type": "code",
   "execution_count": 8,
   "id": "278ed271",
   "metadata": {},
   "outputs": [],
   "source": [
    "import pandas as pd\n",
    "import random\n",
    "\n",
    "def main():\n",
    "    file_name = 'CICIDS2017_sample_km_poisoned.csv'\n",
    "    df = pd.read_csv(file_name)\n",
    "    \n",
    "    #Define column and stop point based on last row\n",
    "    target_column = 'BZ'\n",
    "    end_row = df.shape[0]\n",
    "\n",
    "    # Define the distribution of numbers\n",
    "    distribution = {0: 18225, 1: 1966, 2: 96, 3: 3042, 4: 36, 5: 1255, 6: 2180}\n",
    "    total_instances = sum(distribution.values())\n",
    "\n",
    "    # Create a list of values based on the distribution\n",
    "    values = []\n",
    "    for number, count in distribution.items():\n",
    "        values.extend([number] * count)\n",
    "\n",
    "    # Shuffle the list of values and truncate it to match the number of rows\n",
    "    random.shuffle(values)\n",
    "    values = values[:end_row]\n",
    "\n",
    "    # Set the values in the target column\n",
    "    df[target_column] = values\n",
    "\n",
    "    # Save the modified CSV file\n",
    "    df.to_csv('updated_' + file_name, index=False)\n",
    "\n",
    "if __name__ == '__main__':\n",
    "    main()"
   ]
  },
  {
   "cell_type": "code",
   "execution_count": null,
   "id": "4193fda9",
   "metadata": {},
   "outputs": [],
   "source": []
  }
 ],
 "metadata": {
  "kernelspec": {
   "display_name": "Python 3 (ipykernel)",
   "language": "python",
   "name": "python3"
  },
  "language_info": {
   "codemirror_mode": {
    "name": "ipython",
    "version": 3
   },
   "file_extension": ".py",
   "mimetype": "text/x-python",
   "name": "python",
   "nbconvert_exporter": "python",
   "pygments_lexer": "ipython3",
   "version": "3.10.9"
  }
 },
 "nbformat": 4,
 "nbformat_minor": 5
}
